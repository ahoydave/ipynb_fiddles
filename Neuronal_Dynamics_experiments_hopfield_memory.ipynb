{
  "nbformat": 4,
  "nbformat_minor": 0,
  "metadata": {
    "colab": {
      "name": "Neuronal Dynamics experiments - hopfield memory.ipynb",
      "provenance": [],
      "authorship_tag": "ABX9TyNYmkspwkzk0CVu1NMUGrFh",
      "include_colab_link": true
    },
    "kernelspec": {
      "name": "python3",
      "display_name": "Python 3"
    },
    "language_info": {
      "name": "python"
    }
  },
  "cells": [
    {
      "cell_type": "markdown",
      "metadata": {
        "id": "view-in-github",
        "colab_type": "text"
      },
      "source": [
        "<a href=\"https://colab.research.google.com/github/ahoydave/ipynb_fiddles/blob/main/Neuronal_Dynamics_experiments_hopfield_memory.ipynb\" target=\"_parent\"><img src=\"https://colab.research.google.com/assets/colab-badge.svg\" alt=\"Open In Colab\"/></a>"
      ]
    },
    {
      "cell_type": "markdown",
      "metadata": {
        "id": "VpuHsrQGNOnR"
      },
      "source": [
        "# Neuronal Dynamics experiments: Hopfield model for memory"
      ]
    },
    {
      "cell_type": "code",
      "metadata": {
        "id": "rqApxDEJNFag"
      },
      "source": [
        "%matplotlib inline\n",
        "import matplotlib.pyplot as plt\n",
        "plt.style.use('seaborn-white')\n",
        "import numpy as np\n",
        "import functools as ft"
      ],
      "execution_count": 45,
      "outputs": []
    },
    {
      "cell_type": "markdown",
      "metadata": {
        "id": "Ty-xHSI3cuIX"
      },
      "source": [
        "We're going to build a network of simplified neurons that is able to recover patterns that have been encoded in the network's connections.\n",
        "\n",
        "Let's start by first building up the model of interactions."
      ]
    },
    {
      "cell_type": "markdown",
      "metadata": {
        "id": "iAsIcAR7drVI"
      },
      "source": [
        "Take $N$ neurons which take on one of two states. If a particular neuron, $i$, is \"on\" then $S_i=1$ and, if \"off\", then $S_i=-1$.\n",
        "\n",
        "We model the evolution of the network in discrete timesteps. Neuron $i$ is connected to another neuron, $j$, with weight $w_{ij}$ and so the input to neuron $i$ at time $t$ is given by,\n",
        "$$\n",
        "h(t) = \\sum_{j=1}^{N}w_{ij}S_i(t)\n",
        "$$\n",
        "The new state of each neuron is then an \"activation\" function applied to the input total. The function just keeps the sign of the input value.\n",
        "$$\n",
        "sgn[h]=\n",
        "\\begin{cases}\n",
        "1 & \\text{if} & h \\geq 0 \\\\\n",
        "-1 & \\text{if} & h < 0\n",
        "\\end{cases}\n",
        "$$\n",
        "The update rule is therefore the sum of the weighted influence of other neurons, clamped to one of the values $\\{-1, 1\\}$\n",
        "$$\n",
        "S_i(t+1) = sgn[\\sum_{j=1} ^N w_{ij}S_j(t)]\n",
        "$$\n",
        "Note that there is weight between $i$ and itself which probably isn't all that biologically plausible but it makes things easier. We can experiment with taking that away later maybe."
      ]
    },
    {
      "cell_type": "markdown",
      "metadata": {
        "id": "VlAe2ulXl9zR"
      },
      "source": [
        "We now need to decide how to set the weights. We want to give the neurons initial values and then allow the system to evolve. The idea is that the network settles down in one of the \"memorised\" patterns.\n",
        "\n",
        "If we consider just 9 neurons with a single memorised pattern:"
      ]
    },
    {
      "cell_type": "code",
      "metadata": {
        "colab": {
          "base_uri": "https://localhost:8080/",
          "height": 248
        },
        "id": "qPlCd24_YECu",
        "outputId": "748c0dc2-9ddc-4322-a7d6-63fa1da92293"
      },
      "source": [
        "pattern1 = np.array([-1, 1, -1, 1, 1, 1, -1, -1, -1]).reshape(1,9)\n",
        "fig, ax = plt.subplots(1)\n",
        "ax.set_xticklabels([])\n",
        "ax.set_yticklabels([])\n",
        "ax.imshow(pattern1.reshape(3, 3));"
      ],
      "execution_count": 24,
      "outputs": [
        {
          "output_type": "display_data",
          "data": {
            "image/png": "[encoded data removed]",
            "text/plain": [
              "<Figure size 432x288 with 1 Axes>"
            ]
          },
          "metadata": {
            "needs_background": "light"
          }
        }
      ]
    },
    {
      "cell_type": "markdown",
      "metadata": {
        "id": "j5yhXAJTZWPR"
      },
      "source": [
        "If the neurons start out matching the pattern then the weights should keep the neurons in this state. If this doesn't work then we're lost completely.\n",
        "\n",
        "To do this, consider the top left neuron (position `0`). It should have a weight of `1` with itself, `-1` with the neuron on it's right, `1` with the next and so on giving us\n",
        "```\n",
        "[1, -1, 1, -1, -1, -1, 1, 1, 1]\n",
        "```\n",
        "This is conveniently"
      ]
    },
    {
      "cell_type": "code",
      "metadata": {
        "colab": {
          "base_uri": "https://localhost:8080/"
        },
        "id": "yitlYSW4aPRj",
        "outputId": "cdb0b07d-b998-4fb4-9210-c0a53e5f4014"
      },
      "source": [
        "pattern1[0,0] * pattern1"
      ],
      "execution_count": 25,
      "outputs": [
        {
          "output_type": "execute_result",
          "data": {
            "text/plain": [
              "array([[ 1, -1,  1, -1, -1, -1,  1,  1,  1]])"
            ]
          },
          "metadata": {},
          "execution_count": 25
        }
      ]
    },
    {
      "cell_type": "markdown",
      "metadata": {
        "id": "lyNRBEGnc9ev"
      },
      "source": [
        "In fact, multiplying each element by the whole vector is just the matrix multiplication. Note that the resulting weight matrix is always symmetrical."
      ]
    },
    {
      "cell_type": "code",
      "metadata": {
        "colab": {
          "base_uri": "https://localhost:8080/"
        },
        "id": "iWLTTUTpay_y",
        "outputId": "998cec97-3079-4a28-801c-9537a8fbaef5"
      },
      "source": [
        "pattern1_weights = np.matmul(pattern1.T, pattern1)\n",
        "print(pattern1_weights)\n",
        "(pattern1_weights == pattern1_weights.T).all()"
      ],
      "execution_count": 26,
      "outputs": [
        {
          "output_type": "stream",
          "name": "stdout",
          "text": [
            "[[ 1 -1  1 -1 -1 -1  1  1  1]\n",
            " [-1  1 -1  1  1  1 -1 -1 -1]\n",
            " [ 1 -1  1 -1 -1 -1  1  1  1]\n",
            " [-1  1 -1  1  1  1 -1 -1 -1]\n",
            " [-1  1 -1  1  1  1 -1 -1 -1]\n",
            " [-1  1 -1  1  1  1 -1 -1 -1]\n",
            " [ 1 -1  1 -1 -1 -1  1  1  1]\n",
            " [ 1 -1  1 -1 -1 -1  1  1  1]\n",
            " [ 1 -1  1 -1 -1 -1  1  1  1]]\n"
          ]
        },
        {
          "output_type": "execute_result",
          "data": {
            "text/plain": [
              "True"
            ]
          },
          "metadata": {},
          "execution_count": 26
        }
      ]
    },
    {
      "cell_type": "markdown",
      "metadata": {
        "id": "EJd3u58_dSlM"
      },
      "source": [
        "Updating the state then becomes a matrix multiplication"
      ]
    },
    {
      "cell_type": "code",
      "metadata": {
        "colab": {
          "base_uri": "https://localhost:8080/",
          "height": 212
        },
        "id": "E4iS5HGydbTL",
        "outputId": "87f51c7b-1e19-4a61-bb7f-afde37ad0b70"
      },
      "source": [
        "def sgn(x):\n",
        "  if (x > 0):\n",
        "    return 1\n",
        "  return -1\n",
        "\n",
        "vec_sgn = np.vectorize(sgn)\n",
        "\n",
        "pattern1_updated = vec_sgn(np.matmul(pattern1, pattern1_weights))\n",
        "\n",
        "fig, axs = plt.subplots(1, 2)\n",
        "axs[0].set_title(\"Original\")\n",
        "axs[0].imshow(pattern1.reshape(3, 3))\n",
        "axs[1].set_title(\"Updated\")\n",
        "axs[1].imshow(pattern1_updated.reshape(3, 3));"
      ],
      "execution_count": 28,
      "outputs": [
        {
          "output_type": "display_data",
          "data": {
            "image/png": "[encoded data removed]",
            "text/plain": [
              "<Figure size 432x288 with 2 Axes>"
            ]
          },
          "metadata": {
            "needs_background": "light"
          }
        }
      ]
    },
    {
      "cell_type": "markdown",
      "metadata": {
        "id": "SUHUbgOlfm9r"
      },
      "source": [
        "Now the question is what happens when the initial state doesn't match the pattern? Lets try something with a few changes."
      ]
    },
    {
      "cell_type": "code",
      "metadata": {
        "colab": {
          "base_uri": "https://localhost:8080/",
          "height": 212
        },
        "id": "LCI6dxSsfu8a",
        "outputId": "25f440c3-313a-4169-aa6b-b0ac1c0e94b9"
      },
      "source": [
        "s1 = np.array([1, 1, 0, 1, 1, 1, 0, 1, 0])\n",
        "s1_updated = vec_sgn(np.matmul(pattern1, pattern1_weights))\n",
        "\n",
        "fig, axs = plt.subplots(1, 2)\n",
        "axs[0].set_title(\"Original\")\n",
        "axs[0].imshow(s1.reshape(3, 3))\n",
        "axs[1].set_title(\"Updated\")\n",
        "axs[1].imshow(s1_updated.reshape(3, 3));"
      ],
      "execution_count": 29,
      "outputs": [
        {
          "output_type": "display_data",
          "data": {
            "image/png": "[encoded data removed]",
            "text/plain": [
              "<Figure size 432x288 with 2 Axes>"
            ]
          },
          "metadata": {
            "needs_background": "light"
          }
        }
      ]
    },
    {
      "cell_type": "markdown",
      "metadata": {
        "id": "Z1tyAKGYg3Mv"
      },
      "source": [
        "Woohoo!\n",
        "\n",
        "But what about more patterns? It turns out that you can just add the weights of multiple patterns. Given some assumptions about the patterns being relatively unrelated (in a hand wavy kinda way), it should just work."
      ]
    },
    {
      "cell_type": "code",
      "metadata": {
        "colab": {
          "base_uri": "https://localhost:8080/",
          "height": 212
        },
        "id": "kLlvANi-hNV7",
        "outputId": "ab13e4f5-e2ae-4e5d-8306-7530d7746869"
      },
      "source": [
        "pattern2 = np.array([1, 1, 1, -1, -1, 1, -1, -1, 1]).reshape(1, 9)\n",
        "\n",
        "fig, axs = plt.subplots(1, 2)\n",
        "axs[0].set_title(\"Pattern 1\")\n",
        "axs[0].imshow(pattern1.reshape(3, 3))\n",
        "axs[1].set_title(\"Pattern 2\")\n",
        "axs[1].imshow(pattern2.reshape(3, 3));\n",
        "\n",
        "pattern2_weights = np.matmul(pattern2.T, pattern2)\n",
        "combo_weights = pattern1_weights + pattern2_weights"
      ],
      "execution_count": 30,
      "outputs": [
        {
          "output_type": "display_data",
          "data": {
            "image/png": "[encoded data removed]",
            "text/plain": [
              "<Figure size 432x288 with 2 Axes>"
            ]
          },
          "metadata": {
            "needs_background": "light"
          }
        }
      ]
    },
    {
      "cell_type": "markdown",
      "metadata": {
        "id": "mcWCrL8IiOuG"
      },
      "source": [
        "Let's try a few random inputs then and see what happens. We run the updates until the states stop changing."
      ]
    },
    {
      "cell_type": "code",
      "metadata": {
        "colab": {
          "base_uri": "https://localhost:8080/",
          "height": 118
        },
        "id": "8FQfqERmiTc7",
        "outputId": "d75c4207-bb84-4cac-ca41-4333fd9b9bf5"
      },
      "source": [
        "num_states = 10\n",
        "\n",
        "states = vec_sgn([np.random.rand(1, 9) * 2 - 1 for _ in range(num_states)])\n",
        "\n",
        "stationary = False\n",
        "\n",
        "while not stationary:\n",
        "  fig, axs = plt.subplots(1, num_states)\n",
        "  for state, ax in zip(states, axs):\n",
        "    ax.set_xticklabels([])\n",
        "    ax.set_yticklabels([])\n",
        "    ax.imshow(state.reshape(3,3))\n",
        "\n",
        "  updated_states = [vec_sgn(np.matmul(state, combo_weights)) for state in states]\n",
        "  combo_weights2[0,0]\n",
        "  stationary = True\n",
        "  for states1, states2 in zip(states, updated_states):\n",
        "    if not (states1 == states2).all():\n",
        "      stationary = False\n",
        "      break\n",
        "  \n",
        "  states = updated_states"
      ],
      "execution_count": 36,
      "outputs": [
        {
          "output_type": "stream",
          "name": "stdout",
          "text": [
            "found a difference\n"
          ]
        },
        {
          "output_type": "display_data",
          "data": {
            "image/png": "[encoded data removed]",
            "text/plain": [
              "<Figure size 432x288 with 10 Axes>"
            ]
          },
          "metadata": {
            "needs_background": "light"
          }
        },
        {
          "output_type": "display_data",
          "data": {
            "image/png": "[encoded data removed]",
            "text/plain": [
              "<Figure size 432x288 with 10 Axes>"
            ]
          },
          "metadata": {
            "needs_background": "light"
          }
        }
      ]
    },
    {
      "cell_type": "markdown",
      "metadata": {
        "id": "y5NwnVF7_9qO"
      },
      "source": [
        "Hmmmm ok so now it is finding some weird combination of patterns sometimes. It might be that we need more neurons to hold multiple patterns. Let's scale this baby up."
      ]
    },
    {
      "cell_type": "code",
      "metadata": {
        "id": "jC5G6CftSf87",
        "colab": {
          "base_uri": "https://localhost:8080/",
          "height": 223
        },
        "outputId": "93309792-37ca-4fdd-9b87-8d5c4ee4af30"
      },
      "source": [
        "num_neurons = 100\n",
        "num_patterns = 5\n",
        "\n",
        "patterns = vec_sgn([np.random.rand(1, num_neurons) * 2 - 1 for _ in range(num_patterns)])\n",
        "fig, axs = plt.subplots(num_patterns)\n",
        "\n",
        "for i, (pattern, ax) in enumerate(zip(patterns, axs)):\n",
        "  ax.set_ylabel(f\"Pattern {i}\", rotation=0, labelpad=20)\n",
        "  ax.set_xticklabels([])\n",
        "  ax.set_yticklabels([])\n",
        "  ax.imshow(pattern)"
      ],
      "execution_count": 64,
      "outputs": [
        {
          "output_type": "display_data",
          "data": {
            "image/png": "[encoded data removed]",
            "text/plain": [
              "<Figure size 432x288 with 5 Axes>"
            ]
          },
          "metadata": {}
        }
      ]
    },
    {
      "cell_type": "code",
      "metadata": {
        "id": "7XuhGVxyV14o"
      },
      "source": [
        "pattern_weights = map(lambda p: np.matmul(p.T, p), patterns)\n",
        "combo_weights2 = ft.reduce(lambda a, b: a + b, pattern_weights)"
      ],
      "execution_count": 65,
      "outputs": []
    },
    {
      "cell_type": "code",
      "metadata": {
        "colab": {
          "base_uri": "https://localhost:8080/",
          "height": 242
        },
        "id": "hColygZVel1j",
        "outputId": "62b795e0-6aff-4549-b196-643df1616ed8"
      },
      "source": [
        "state_progression = [vec_sgn(np.random.rand(1, num_neurons) * 2 - 1)]\n",
        "\n",
        "stationary = False\n",
        "\n",
        "while not stationary:\n",
        "  new_state = vec_sgn(np.matmul(state_progression[-1], combo_weights2))\n",
        "  state_progression.append(new_state)\n",
        "  stationary = (state_progression[-1] == state_progression[-2]).all()\n",
        "\n",
        "fig, axs = plt.subplots(len(state_progression))\n",
        "for state, ax in zip(state_progression, axs):\n",
        "  ax.set_xticklabels([])\n",
        "  ax.set_yticklabels([])\n",
        "  ax.imshow(state)\n",
        "\n",
        "for i, pattern in enumerate(patterns):\n",
        "  if (state_progression[-1] == pattern).all():\n",
        "    print(\"Matches pattern {0}\".format(i))"
      ],
      "execution_count": 78,
      "outputs": [
        {
          "output_type": "stream",
          "name": "stdout",
          "text": [
            "Matches pattern 3\n"
          ]
        },
        {
          "output_type": "display_data",
          "data": {
            "image/png": "[encoded data removed]",
            "text/plain": [
              "<Figure size 432x288 with 7 Axes>"
            ]
          },
          "metadata": {}
        }
      ]
    },
    {
      "cell_type": "markdown",
      "metadata": {
        "id": "uz5V52ZvkwiQ"
      },
      "source": [
        "Ok so that kind of works.\n",
        "\n",
        "## Further ideas\n",
        "\n",
        "* add a distance metric\n",
        "* sparse connections\n",
        "* probabilistic updates"
      ]
    },
    {
      "cell_type": "code",
      "metadata": {
        "id": "NcylJ1U6KEM7"
      },
      "source": [
        ""
      ],
      "execution_count": null,
      "outputs": []
    }
  ]
}